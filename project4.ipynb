{
 "cells": [
  {
   "cell_type": "markdown",
   "metadata": {},
   "source": [
    "# ***Project_4.  Решение комплексной бизнес-задачи. Крапеницкая Е.***\n"
   ]
  },
  {
   "cell_type": "markdown",
   "metadata": {},
   "source": [
    "## Цель проекта:"
   ]
  },
  {
   "cell_type": "markdown",
   "metadata": {},
   "source": [
    "Подготовить данные для рекомендательной системы к курсам для онлайн-школы \"MasterMind\""
   ]
  },
  {
   "cell_type": "markdown",
   "metadata": {},
   "source": [
    "## Задача проекта: "
   ]
  },
  {
   "cell_type": "markdown",
   "metadata": {},
   "source": [
    "Создать таблицу с рекомендациями, благодаря которой можно будет предлагать клиентам интересные им курсы и тем самым повышать средний чек."
   ]
  },
  {
   "cell_type": "markdown",
   "metadata": {},
   "source": [
    "## Конкретные шаги(формализованные задачи):"
   ]
  },
  {
   "cell_type": "markdown",
   "metadata": {},
   "source": [
    "1. Познакомиться с датасетом, подготовить и проанализировать данные с помощью SQL."
   ]
  },
  {
   "cell_type": "markdown",
   "metadata": {},
   "source": [
    "2. Обработать данные средствами Python."
   ]
  },
  {
   "cell_type": "markdown",
   "metadata": {},
   "source": [
    "3. Составить итоговую таблицу с рекомендациями, снабдив её необходимыми комментариями, и представить отчёт."
   ]
  },
  {
   "cell_type": "markdown",
   "metadata": {},
   "source": [
    "## 1. Подготовка данных с помощью SQL."
   ]
  },
  {
   "cell_type": "markdown",
   "metadata": {},
   "source": [
    "Нам даны 2 таблицы:"
   ]
  },
  {
   "cell_type": "markdown",
   "metadata": {},
   "source": [
    "Таблица carts — данные о пользовательских корзинах.  \n",
    "Promo Code ID — ID промокода, если он есть.  \n",
    "Purchased At — дата оплаты.  \n",
    "User ID — ID пользователя.  \n",
    "Created At — дата создания корзины.  \n",
    "Updated At — дата последнего обновления информации.  \n",
    "ID — идентификатор корзины.  \n",
    "State — состояние оплаты.  "
   ]
  },
  {
   "cell_type": "markdown",
   "metadata": {},
   "source": [
    "Таблица cart items — данные о курсах, которые пользователи добавили в корзину.  \n",
    "Created At — дата создания события.  \n",
    "Resource Type — тип продукта.  \n",
    "Resource ID — ID курса.  \n",
    "Cart ID — идентификатор корзины.  \n",
    "Updated At — дата последнего обновления информации.  \n",
    "ID — идентификатор операции.  "
   ]
  },
  {
   "cell_type": "markdown",
   "metadata": {},
   "source": [
    "Необходимые таблицы находятся в схеме final."
   ]
  },
  {
   "cell_type": "markdown",
   "metadata": {},
   "source": [
    "Из этих данных нам нужно составить таблицу с данными по продажам курсов в разрезе пользователей (купивших более одного курса). "
   ]
  },
  {
   "cell_type": "markdown",
   "metadata": {},
   "source": [
    "Сделаем это с помощью SQL-запроса.\n"
   ]
  },
  {
   "cell_type": "markdown",
   "metadata": {},
   "source": [
    "with cnt_courses as  /*создаем СТЕ с количеством пройденных курсов, сгруппированных по пользователям(так как для создания рекомендательной системы нас интересуют пользователи, купившие более одного курса)*/  \n",
    "(  \n",
    "select  \n",
    "user_id,  \n",
    "count(distinct resource_id) count_courses  /*выбираем из таблиц пользователей и количества уникальных курсов, купленных ими*/  \n",
    "from   \n",
    "final.carts c   \n",
    "join final.cart_items i on c.id = i.cart_id  /*соединяем таблицы*/  \n",
    "where state = 'successful' and resource_type = 'Course'  */фильтруем таблицу по успешным оплатам и по типу продукта \"курс\"*/  \n",
    "group by 1   /*группируем количество курсов по пользователям*/  \n",
    "having count(distinct resource_id) > 1  /*ставим фильтр, чтобы оставить только пользователей, купивших более одного курса*/  \n",
    ")  \n",
    "select  /*здесь соединяем таблицу, получившуюся в СТЕ, с таблицей с данными о курсах, чтобы получить итоговую таблицу с пользователями, купившими более одного курса и id этих курсов*/  \n",
    "distinct cc.user_id,  \n",
    "resource_id  \n",
    "from   \n",
    "cnt_courses cc  \n",
    "join final.carts c on cc.user_id = c.user_id  \n",
    "join final.cart_items i on c.id = i.cart_id  \n",
    "where state = 'successful' and resource_type = 'Course'  \n",
    "order by 1  "
   ]
  },
  {
   "cell_type": "markdown",
   "metadata": {},
   "source": [
    "У нас получилась таблица с двуми столбцами - id пользователей и id курсов, купленных этими пользователями. В таблице оставлены только пользователи, купившие более одного курса.  \n",
    "Сохраним эту таблицу в формате CSV-файла, чтобы продолжить с ней работать средствами Python."
   ]
  },
  {
   "cell_type": "markdown",
   "metadata": {},
   "source": [
    "## 2. Обработка данных средствами Python."
   ]
  },
  {
   "cell_type": "markdown",
   "metadata": {},
   "source": [
    "Теперь нам нужно данные, полученные на предыдущем этапе, видоизменить так, чтобы на выходе получилась таблица с тремя столбцами:  \n",
    "- Курс - целевой курс, к которому даются рекомендации.  \n",
    "- Рекомендация №1 - первая рекомендация к целевому курсу.  \n",
    "- Рекомендация №2 - вторая рекомендация к целевому курсу."
   ]
  },
  {
   "cell_type": "markdown",
   "metadata": {},
   "source": [
    "Рекомендации мы будем давать по принципу частоты покупок рекомендуемых курсов с целевым курсом. Рекомендация №1 - самый частопокупаемый курс с целевым курсом, Рекомендация №2 - второй по частоте покупок с целевым курсом. Курсы с низкой покупаемостью(ниже порога, который мы установим) мы предлагать не будем. Заменим их самыми популярными курсами. Естественно, нужно составить таблицу так, чтобы в одной строке курсы не повторялись.\n"
   ]
  },
  {
   "cell_type": "markdown",
   "metadata": {},
   "source": [
    "План работы:  \n",
    "- импортируем библиотеки и прочитаем данные.  \n",
    "- создадим все возможные пары курсов, которые пользователи покупали вместе.  \n",
    "- подсчитаем, сколько раз каждая пара курсов встречается в данных, чем чаще пара покупалась вместе, тем выше она ранжируется.  \n",
    "- установим порог популярности, который будет определять, какие курсы считаются достаточно популярными для рекомендации.  \n",
    "- для каждого курса мы выберем курсы для рекомендации №1 и №2, основываясь на том, как часто они покупались вместе с исходным курсом, при этом исключая сам исходный курс из списка возможных рекомендаций:  \n",
    "Рекомендация №1 — это курс, который чаще всего покупался вместе с целевым курсом и превышает порог популярности.    \n",
    "Рекомендация №2 — это второй по частоте курс, если он также превышает порог популярности. Если нет второго курса, превышающего порог, то выбирается следующий по популярности курс из всех курсов, который не является целевым.  \n",
    "- если не будет достаточно популярных курсов для рекомендации, мы выберем самые популярные курсы из всех данных, исключая целевой курс, чтобы обеспечить уникальность рекомендаций.  \n",
    "- сохраним нашу работу в формате Jupiter notebook а также итоговую таблицу в формате CSV.\n"
   ]
  },
  {
   "cell_type": "code",
   "execution_count": 1,
   "metadata": {},
   "outputs": [],
   "source": [
    "# Импортируем библиотеки\n",
    "\n",
    "import pandas as pd\n",
    "import matplotlib.pyplot as plt\n",
    "import numpy as np"
   ]
  },
  {
   "cell_type": "code",
   "execution_count": 2,
   "metadata": {},
   "outputs": [
    {
     "data": {
      "text/html": [
       "<div>\n",
       "<style scoped>\n",
       "    .dataframe tbody tr th:only-of-type {\n",
       "        vertical-align: middle;\n",
       "    }\n",
       "\n",
       "    .dataframe tbody tr th {\n",
       "        vertical-align: top;\n",
       "    }\n",
       "\n",
       "    .dataframe thead th {\n",
       "        text-align: right;\n",
       "    }\n",
       "</style>\n",
       "<table border=\"1\" class=\"dataframe\">\n",
       "  <thead>\n",
       "    <tr style=\"text-align: right;\">\n",
       "      <th></th>\n",
       "      <th>user_id</th>\n",
       "      <th>resource_id</th>\n",
       "    </tr>\n",
       "  </thead>\n",
       "  <tbody>\n",
       "    <tr>\n",
       "      <th>0</th>\n",
       "      <td>51</td>\n",
       "      <td>516</td>\n",
       "    </tr>\n",
       "    <tr>\n",
       "      <th>1</th>\n",
       "      <td>51</td>\n",
       "      <td>1099</td>\n",
       "    </tr>\n",
       "    <tr>\n",
       "      <th>2</th>\n",
       "      <td>6117</td>\n",
       "      <td>356</td>\n",
       "    </tr>\n",
       "    <tr>\n",
       "      <th>3</th>\n",
       "      <td>6117</td>\n",
       "      <td>357</td>\n",
       "    </tr>\n",
       "    <tr>\n",
       "      <th>4</th>\n",
       "      <td>6117</td>\n",
       "      <td>1125</td>\n",
       "    </tr>\n",
       "  </tbody>\n",
       "</table>\n",
       "</div>"
      ],
      "text/plain": [
       "   user_id  resource_id\n",
       "0       51          516\n",
       "1       51         1099\n",
       "2     6117          356\n",
       "3     6117          357\n",
       "4     6117         1125"
      ]
     },
     "execution_count": 2,
     "metadata": {},
     "output_type": "execute_result"
    }
   ],
   "source": [
    "# Читаем файл, полученный на предыдущем этапе, смотрим, что получилось\n",
    "\n",
    "df = pd.read_csv('data/courses_per_users.csv')\n",
    "df.head()\n"
   ]
  },
  {
   "cell_type": "code",
   "execution_count": 3,
   "metadata": {},
   "outputs": [
    {
     "name": "stdout",
     "output_type": "stream",
     "text": [
      "<class 'pandas.core.frame.DataFrame'>\n",
      "RangeIndex: 34074 entries, 0 to 34073\n",
      "Data columns (total 2 columns):\n",
      " #   Column       Non-Null Count  Dtype\n",
      "---  ------       --------------  -----\n",
      " 0   user_id      34074 non-null  int64\n",
      " 1   resource_id  34074 non-null  int64\n",
      "dtypes: int64(2)\n",
      "memory usage: 532.5 KB\n"
     ]
    }
   ],
   "source": [
    "# Смотрим, нет ли в наших данных пропусков\n",
    "\n",
    "df.info()"
   ]
  },
  {
   "cell_type": "code",
   "execution_count": 4,
   "metadata": {},
   "outputs": [
    {
     "data": {
      "text/html": [
       "<div>\n",
       "<style scoped>\n",
       "    .dataframe tbody tr th:only-of-type {\n",
       "        vertical-align: middle;\n",
       "    }\n",
       "\n",
       "    .dataframe tbody tr th {\n",
       "        vertical-align: top;\n",
       "    }\n",
       "\n",
       "    .dataframe thead th {\n",
       "        text-align: right;\n",
       "    }\n",
       "</style>\n",
       "<table border=\"1\" class=\"dataframe\">\n",
       "  <thead>\n",
       "    <tr style=\"text-align: right;\">\n",
       "      <th></th>\n",
       "      <th>user_id</th>\n",
       "      <th>resource_id</th>\n",
       "    </tr>\n",
       "  </thead>\n",
       "  <tbody>\n",
       "    <tr>\n",
       "      <th>0</th>\n",
       "      <td>51</td>\n",
       "      <td>[516, 1099]</td>\n",
       "    </tr>\n",
       "    <tr>\n",
       "      <th>1</th>\n",
       "      <td>6117</td>\n",
       "      <td>[356, 357, 1125]</td>\n",
       "    </tr>\n",
       "    <tr>\n",
       "      <th>2</th>\n",
       "      <td>10275</td>\n",
       "      <td>[553, 1147]</td>\n",
       "    </tr>\n",
       "    <tr>\n",
       "      <th>3</th>\n",
       "      <td>10457</td>\n",
       "      <td>[361, 1138]</td>\n",
       "    </tr>\n",
       "    <tr>\n",
       "      <th>4</th>\n",
       "      <td>17166</td>\n",
       "      <td>[356, 357]</td>\n",
       "    </tr>\n",
       "  </tbody>\n",
       "</table>\n",
       "</div>"
      ],
      "text/plain": [
       "   user_id       resource_id\n",
       "0       51       [516, 1099]\n",
       "1     6117  [356, 357, 1125]\n",
       "2    10275       [553, 1147]\n",
       "3    10457       [361, 1138]\n",
       "4    17166        [356, 357]"
      ]
     },
     "execution_count": 4,
     "metadata": {},
     "output_type": "execute_result"
    }
   ],
   "source": [
    "# Преобразование данных в формат, где строки - это пользователи, а значения - списки купленных курсов\n",
    "\n",
    "courses_per_user = df.groupby('user_id')['resource_id'].apply(list).reset_index()\n",
    "courses_per_user.head()\n"
   ]
  },
  {
   "cell_type": "code",
   "execution_count": 5,
   "metadata": {},
   "outputs": [],
   "source": [
    " # Функция для создания всех возможных пар курсов для одного пользователя\n",
    "\n",
    "def create_course_pairs(courses):\n",
    "    pairs = []\n",
    "    for i in range(len(courses)):\n",
    "        for j in range(i + 1, len(courses)):\n",
    "            pairs.append((courses[i], courses[j]))\n",
    "    return pairs"
   ]
  },
  {
   "cell_type": "code",
   "execution_count": 6,
   "metadata": {},
   "outputs": [
    {
     "data": {
      "text/html": [
       "<div>\n",
       "<style scoped>\n",
       "    .dataframe tbody tr th:only-of-type {\n",
       "        vertical-align: middle;\n",
       "    }\n",
       "\n",
       "    .dataframe tbody tr th {\n",
       "        vertical-align: top;\n",
       "    }\n",
       "\n",
       "    .dataframe thead th {\n",
       "        text-align: right;\n",
       "    }\n",
       "</style>\n",
       "<table border=\"1\" class=\"dataframe\">\n",
       "  <thead>\n",
       "    <tr style=\"text-align: right;\">\n",
       "      <th></th>\n",
       "      <th>user_id</th>\n",
       "      <th>resource_id</th>\n",
       "      <th>course_pairs</th>\n",
       "    </tr>\n",
       "  </thead>\n",
       "  <tbody>\n",
       "    <tr>\n",
       "      <th>0</th>\n",
       "      <td>51</td>\n",
       "      <td>[516, 1099]</td>\n",
       "      <td>[(516, 1099)]</td>\n",
       "    </tr>\n",
       "    <tr>\n",
       "      <th>1</th>\n",
       "      <td>6117</td>\n",
       "      <td>[356, 357, 1125]</td>\n",
       "      <td>[(356, 357), (356, 1125), (357, 1125)]</td>\n",
       "    </tr>\n",
       "    <tr>\n",
       "      <th>2</th>\n",
       "      <td>10275</td>\n",
       "      <td>[553, 1147]</td>\n",
       "      <td>[(553, 1147)]</td>\n",
       "    </tr>\n",
       "    <tr>\n",
       "      <th>3</th>\n",
       "      <td>10457</td>\n",
       "      <td>[361, 1138]</td>\n",
       "      <td>[(361, 1138)]</td>\n",
       "    </tr>\n",
       "    <tr>\n",
       "      <th>4</th>\n",
       "      <td>17166</td>\n",
       "      <td>[356, 357]</td>\n",
       "      <td>[(356, 357)]</td>\n",
       "    </tr>\n",
       "  </tbody>\n",
       "</table>\n",
       "</div>"
      ],
      "text/plain": [
       "   user_id       resource_id                            course_pairs\n",
       "0       51       [516, 1099]                           [(516, 1099)]\n",
       "1     6117  [356, 357, 1125]  [(356, 357), (356, 1125), (357, 1125)]\n",
       "2    10275       [553, 1147]                           [(553, 1147)]\n",
       "3    10457       [361, 1138]                           [(361, 1138)]\n",
       "4    17166        [356, 357]                            [(356, 357)]"
      ]
     },
     "execution_count": 6,
     "metadata": {},
     "output_type": "execute_result"
    }
   ],
   "source": [
    "# Применяем функцию к каждому пользователю\n",
    "\n",
    "courses_per_user['course_pairs'] = courses_per_user['resource_id'].apply(create_course_pairs)\n",
    "courses_per_user.head()"
   ]
  },
  {
   "cell_type": "code",
   "execution_count": 7,
   "metadata": {},
   "outputs": [
    {
     "data": {
      "text/plain": [
       "0    (516, 1099)\n",
       "1     (356, 357)\n",
       "1    (356, 1125)\n",
       "1    (357, 1125)\n",
       "2    (553, 1147)\n",
       "Name: course_pairs, dtype: object"
      ]
     },
     "execution_count": 7,
     "metadata": {},
     "output_type": "execute_result"
    }
   ],
   "source": [
    "# Выравниваем пары, чтобы получить один столбец пар\n",
    "\n",
    "all_pairs = courses_per_user['course_pairs'].explode().dropna()\n",
    "all_pairs.head()"
   ]
  },
  {
   "cell_type": "code",
   "execution_count": 8,
   "metadata": {},
   "outputs": [
    {
     "data": {
      "text/html": [
       "<div>\n",
       "<style scoped>\n",
       "    .dataframe tbody tr th:only-of-type {\n",
       "        vertical-align: middle;\n",
       "    }\n",
       "\n",
       "    .dataframe tbody tr th {\n",
       "        vertical-align: top;\n",
       "    }\n",
       "\n",
       "    .dataframe thead th {\n",
       "        text-align: right;\n",
       "    }\n",
       "</style>\n",
       "<table border=\"1\" class=\"dataframe\">\n",
       "  <thead>\n",
       "    <tr style=\"text-align: right;\">\n",
       "      <th></th>\n",
       "      <th>pair</th>\n",
       "      <th>count</th>\n",
       "    </tr>\n",
       "  </thead>\n",
       "  <tbody>\n",
       "    <tr>\n",
       "      <th>0</th>\n",
       "      <td>(551, 566)</td>\n",
       "      <td>797</td>\n",
       "    </tr>\n",
       "    <tr>\n",
       "      <th>1</th>\n",
       "      <td>(515, 551)</td>\n",
       "      <td>417</td>\n",
       "    </tr>\n",
       "    <tr>\n",
       "      <th>2</th>\n",
       "      <td>(489, 551)</td>\n",
       "      <td>311</td>\n",
       "    </tr>\n",
       "    <tr>\n",
       "      <th>3</th>\n",
       "      <td>(523, 551)</td>\n",
       "      <td>304</td>\n",
       "    </tr>\n",
       "    <tr>\n",
       "      <th>4</th>\n",
       "      <td>(566, 794)</td>\n",
       "      <td>290</td>\n",
       "    </tr>\n",
       "  </tbody>\n",
       "</table>\n",
       "</div>"
      ],
      "text/plain": [
       "         pair  count\n",
       "0  (551, 566)    797\n",
       "1  (515, 551)    417\n",
       "2  (489, 551)    311\n",
       "3  (523, 551)    304\n",
       "4  (566, 794)    290"
      ]
     },
     "execution_count": 8,
     "metadata": {},
     "output_type": "execute_result"
    }
   ],
   "source": [
    "# Считаем частоту пар\n",
    "pair_counts = all_pairs.value_counts().reset_index()\n",
    "pair_counts.columns = ['pair', 'count']\n",
    "pair_counts.head()"
   ]
  },
  {
   "cell_type": "code",
   "execution_count": 9,
   "metadata": {},
   "outputs": [
    {
     "data": {
      "text/html": [
       "<div>\n",
       "<style scoped>\n",
       "    .dataframe tbody tr th:only-of-type {\n",
       "        vertical-align: middle;\n",
       "    }\n",
       "\n",
       "    .dataframe tbody tr th {\n",
       "        vertical-align: top;\n",
       "    }\n",
       "\n",
       "    .dataframe thead th {\n",
       "        text-align: right;\n",
       "    }\n",
       "</style>\n",
       "<table border=\"1\" class=\"dataframe\">\n",
       "  <thead>\n",
       "    <tr style=\"text-align: right;\">\n",
       "      <th></th>\n",
       "      <th>pair</th>\n",
       "      <th>count</th>\n",
       "      <th>course1</th>\n",
       "      <th>course2</th>\n",
       "    </tr>\n",
       "  </thead>\n",
       "  <tbody>\n",
       "    <tr>\n",
       "      <th>0</th>\n",
       "      <td>(551, 566)</td>\n",
       "      <td>797</td>\n",
       "      <td>551</td>\n",
       "      <td>566</td>\n",
       "    </tr>\n",
       "    <tr>\n",
       "      <th>1</th>\n",
       "      <td>(515, 551)</td>\n",
       "      <td>417</td>\n",
       "      <td>515</td>\n",
       "      <td>551</td>\n",
       "    </tr>\n",
       "    <tr>\n",
       "      <th>2</th>\n",
       "      <td>(489, 551)</td>\n",
       "      <td>311</td>\n",
       "      <td>489</td>\n",
       "      <td>551</td>\n",
       "    </tr>\n",
       "    <tr>\n",
       "      <th>3</th>\n",
       "      <td>(523, 551)</td>\n",
       "      <td>304</td>\n",
       "      <td>523</td>\n",
       "      <td>551</td>\n",
       "    </tr>\n",
       "    <tr>\n",
       "      <th>4</th>\n",
       "      <td>(566, 794)</td>\n",
       "      <td>290</td>\n",
       "      <td>566</td>\n",
       "      <td>794</td>\n",
       "    </tr>\n",
       "  </tbody>\n",
       "</table>\n",
       "</div>"
      ],
      "text/plain": [
       "         pair  count  course1  course2\n",
       "0  (551, 566)    797      551      566\n",
       "1  (515, 551)    417      515      551\n",
       "2  (489, 551)    311      489      551\n",
       "3  (523, 551)    304      523      551\n",
       "4  (566, 794)    290      566      794"
      ]
     },
     "execution_count": 9,
     "metadata": {},
     "output_type": "execute_result"
    }
   ],
   "source": [
    "# Разделяем пары на отдельные курсы для более удобного ранжирования\n",
    "pair_counts[['course1', 'course2']] = pd.DataFrame(pair_counts['pair'].tolist(), index=pair_counts.index)\n",
    "pair_counts.head()"
   ]
  },
  {
   "cell_type": "markdown",
   "metadata": {},
   "source": [
    "Теперь нам нужно определить минимальную границу популярности. "
   ]
  },
  {
   "cell_type": "markdown",
   "metadata": {},
   "source": [
    "Сначала посмотрим распределение частоты количества покупок."
   ]
  },
  {
   "cell_type": "code",
   "execution_count": 10,
   "metadata": {},
   "outputs": [
    {
     "data": {
      "text/plain": [
       "resource_id\n",
       "551     2935\n",
       "566     2342\n",
       "515     1311\n",
       "489     1125\n",
       "490     1084\n",
       "        ... \n",
       "1182       3\n",
       "902        3\n",
       "1199       2\n",
       "1201       2\n",
       "1200       2\n",
       "Name: count, Length: 126, dtype: int64"
      ]
     },
     "metadata": {},
     "output_type": "display_data"
    }
   ],
   "source": [
    "# Смотрим распределение частоты покупок по курсам.\n",
    "\n",
    "course_purchases = df['resource_id'].value_counts()\n",
    "display(course_purchases)\n"
   ]
  },
  {
   "cell_type": "markdown",
   "metadata": {},
   "source": [
    "По этой таблице сложно что-то понять, мы видим, что 2 самых популярных курса покупались 2935 и 2342 раза."
   ]
  },
  {
   "cell_type": "markdown",
   "metadata": {},
   "source": [
    "Для лучшего понимания построим график распределения популярности курсов, где по оси Х будет количество покупок, а по оси Y - частота покупок курсов."
   ]
  },
  {
   "cell_type": "code",
   "execution_count": 11,
   "metadata": {},
   "outputs": [
    {
     "data": {
      "image/png": "[encoded data removed]",
      "text/plain": [
       "<Figure size 1800x600 with 1 Axes>"
      ]
     },
     "metadata": {},
     "output_type": "display_data"
    }
   ],
   "source": [
    "# Строим график\n",
    "\n",
    "plt.figure(figsize=(18, 6))  \n",
    "plt.hist(course_purchases, bins=50, edgecolor='black')\n",
    "plt.title('Распределение популярности курсов')\n",
    "plt.xlabel('Количество покупок')\n",
    "plt.ylabel('Частота')\n",
    "max_purchases = course_purchases.max()\n",
    "xticks = np.arange(0, max_purchases, 100) # Для лучшего восприятия сделаем побольше отметок на оси Х\n",
    "plt.xticks(xticks)\n",
    "\n",
    "plt.show()"
   ]
  },
  {
   "cell_type": "markdown",
   "metadata": {},
   "source": [
    "На графике видно, что два самых популярных курса выбиваются из общей картины, намного опережая остальные по числу покупок, но они являются исключением, чаще всего в данных встречается небольшое количество покупок(примерно до 50).  \n",
    "Основная часть покупок распределена в интервале до 650 раз. В связи с этим стоит взять небольшую минимальную границу, чтобы не отсечь много курсов.  \n",
    "Возьмем для этой цели 5й процентиль данных. Мы не будем рекомендовать 5% самых непопулярных курсов."
   ]
  },
  {
   "cell_type": "code",
   "execution_count": 12,
   "metadata": {},
   "outputs": [
    {
     "name": "stdout",
     "output_type": "stream",
     "text": [
      "3\n"
     ]
    }
   ],
   "source": [
    "# Определяем минимальную границу для популярности\n",
    "\n",
    "sorted_purchases = course_purchases.sort_values()\n",
    "MIN_POPULARITY_THRESHOLD = sorted_purchases.iloc[int(len(sorted_purchases) * 0.05)]\n",
    "print(MIN_POPULARITY_THRESHOLD)"
   ]
  },
  {
   "cell_type": "markdown",
   "metadata": {},
   "source": [
    "5% для наших данных - это 3 покупки. Мы не будем рекомендовать курсы, купленные 3 раза и меньше. "
   ]
  },
  {
   "cell_type": "markdown",
   "metadata": {},
   "source": [
    "Создадим функцию, которая на основе нашего датафрейма pair_counts сделает нужную нам таблицу."
   ]
  },
  {
   "cell_type": "code",
   "execution_count": 13,
   "metadata": {},
   "outputs": [
    {
     "data": {
      "text/html": [
       "<div>\n",
       "<style scoped>\n",
       "    .dataframe tbody tr th:only-of-type {\n",
       "        vertical-align: middle;\n",
       "    }\n",
       "\n",
       "    .dataframe tbody tr th {\n",
       "        vertical-align: top;\n",
       "    }\n",
       "\n",
       "    .dataframe thead th {\n",
       "        text-align: right;\n",
       "    }\n",
       "</style>\n",
       "<table border=\"1\" class=\"dataframe\">\n",
       "  <thead>\n",
       "    <tr style=\"text-align: right;\">\n",
       "      <th></th>\n",
       "      <th>pair</th>\n",
       "      <th>count</th>\n",
       "      <th>course1</th>\n",
       "      <th>course2</th>\n",
       "    </tr>\n",
       "  </thead>\n",
       "  <tbody>\n",
       "    <tr>\n",
       "      <th>0</th>\n",
       "      <td>(551, 566)</td>\n",
       "      <td>797</td>\n",
       "      <td>551</td>\n",
       "      <td>566</td>\n",
       "    </tr>\n",
       "    <tr>\n",
       "      <th>1</th>\n",
       "      <td>(515, 551)</td>\n",
       "      <td>417</td>\n",
       "      <td>515</td>\n",
       "      <td>551</td>\n",
       "    </tr>\n",
       "    <tr>\n",
       "      <th>2</th>\n",
       "      <td>(489, 551)</td>\n",
       "      <td>311</td>\n",
       "      <td>489</td>\n",
       "      <td>551</td>\n",
       "    </tr>\n",
       "    <tr>\n",
       "      <th>3</th>\n",
       "      <td>(523, 551)</td>\n",
       "      <td>304</td>\n",
       "      <td>523</td>\n",
       "      <td>551</td>\n",
       "    </tr>\n",
       "    <tr>\n",
       "      <th>4</th>\n",
       "      <td>(566, 794)</td>\n",
       "      <td>290</td>\n",
       "      <td>566</td>\n",
       "      <td>794</td>\n",
       "    </tr>\n",
       "  </tbody>\n",
       "</table>\n",
       "</div>"
      ],
      "text/plain": [
       "         pair  count  course1  course2\n",
       "0  (551, 566)    797      551      566\n",
       "1  (515, 551)    417      515      551\n",
       "2  (489, 551)    311      489      551\n",
       "3  (523, 551)    304      523      551\n",
       "4  (566, 794)    290      566      794"
      ]
     },
     "execution_count": 13,
     "metadata": {},
     "output_type": "execute_result"
    }
   ],
   "source": [
    "# Вспомним, как он выглядит\n",
    "\n",
    "pair_counts.head()\n"
   ]
  },
  {
   "cell_type": "code",
   "execution_count": 14,
   "metadata": {},
   "outputs": [],
   "source": [
    "# Функция для выбора рекомендации\n",
    "def get_recommendation(course, df, position):\n",
    "    # Находим все пары, где текущий курс является course1\n",
    "    filtered = df[df['course1'] == course]\n",
    "    \n",
    "    # Фильтруем пары, оставляя только те, где количество совместных покупок с курсом превышает порог популярности.\n",
    "    # Затем сортируем по убыванию частоты покупок пары.\n",
    "    recommendations = filtered[filtered['count'] >= MIN_POPULARITY_THRESHOLD].sort_values('count', ascending=False)\n",
    "    \n",
    "    # Убираем целевой курс из возможных рекомендаций. \n",
    "    recommendations = recommendations[recommendations['course2'] != course]\n",
    "    \n",
    "    # Если после всех фильтров у нас есть достаточно курсов для рекомендации в заданной позиции (position),\n",
    "    if len(recommendations) >= position:\n",
    "        # Возвращаем курс из столбца 'course2' на позиции position-1\n",
    "        return recommendations.iloc[position - 1]['course2']\n",
    "    else:\n",
    "        # Если нет достаточно популярных курсов для рекомендации, мы переходим к резервному плану:\n",
    "        \n",
    "        # Сначала получаем все уникальные курсы из 'course2'\n",
    "        all_courses = df['course2'].unique()\n",
    "        \n",
    "        # Затем мы находим самые популярные курсы из всех, исключая текущий курс.\n",
    "        # Суммируем количество покупок для каждого курса, сортируем по убыванию.\n",
    "        popular_courses = df[df['course2'].isin(all_courses[all_courses != course])].groupby('course2')['count'].sum().sort_values(ascending=False)\n",
    "        \n",
    "        if not popular_courses.empty:\n",
    "            # Если есть популярные курсы, возвращаем курс с индексом position-1 или первый курс, если position больше, чем количество курсов\n",
    "            return popular_courses.index[position - 1] if position <= len(popular_courses) else popular_courses.index[0]\n",
    "        else:\n",
    "            # Если нет популярных курсов из всех, просто выбираем первый доступный курс, который не является целевым\n",
    "            return [c for c in all_courses if c != course][0]"
   ]
  },
  {
   "cell_type": "markdown",
   "metadata": {},
   "source": [
    "## 3. Наконец, сформируем итоговую таблицу."
   ]
  },
  {
   "cell_type": "code",
   "execution_count": 15,
   "metadata": {},
   "outputs": [
    {
     "data": {
      "text/html": [
       "<div>\n",
       "<style scoped>\n",
       "    .dataframe tbody tr th:only-of-type {\n",
       "        vertical-align: middle;\n",
       "    }\n",
       "\n",
       "    .dataframe tbody tr th {\n",
       "        vertical-align: top;\n",
       "    }\n",
       "\n",
       "    .dataframe thead th {\n",
       "        text-align: right;\n",
       "    }\n",
       "</style>\n",
       "<table border=\"1\" class=\"dataframe\">\n",
       "  <thead>\n",
       "    <tr style=\"text-align: right;\">\n",
       "      <th></th>\n",
       "      <th>Курс</th>\n",
       "      <th>Рекомендация №1</th>\n",
       "      <th>Рекомендация №2</th>\n",
       "    </tr>\n",
       "  </thead>\n",
       "  <tbody>\n",
       "    <tr>\n",
       "      <th>0</th>\n",
       "      <td>551</td>\n",
       "      <td>566</td>\n",
       "      <td>552</td>\n",
       "    </tr>\n",
       "    <tr>\n",
       "      <th>1</th>\n",
       "      <td>515</td>\n",
       "      <td>551</td>\n",
       "      <td>523</td>\n",
       "    </tr>\n",
       "    <tr>\n",
       "      <th>2</th>\n",
       "      <td>489</td>\n",
       "      <td>551</td>\n",
       "      <td>515</td>\n",
       "    </tr>\n",
       "    <tr>\n",
       "      <th>3</th>\n",
       "      <td>523</td>\n",
       "      <td>551</td>\n",
       "      <td>552</td>\n",
       "    </tr>\n",
       "    <tr>\n",
       "      <th>4</th>\n",
       "      <td>566</td>\n",
       "      <td>794</td>\n",
       "      <td>764</td>\n",
       "    </tr>\n",
       "  </tbody>\n",
       "</table>\n",
       "</div>"
      ],
      "text/plain": [
       "   Курс  Рекомендация №1  Рекомендация №2\n",
       "0   551              566              552\n",
       "1   515              551              523\n",
       "2   489              551              515\n",
       "3   523              551              552\n",
       "4   566              794              764"
      ]
     },
     "execution_count": 15,
     "metadata": {},
     "output_type": "execute_result"
    }
   ],
   "source": [
    " # Создаем список для хранения данных перед созданием DataFrame\n",
    "recommendation_data = []\n",
    "\n",
    "# Заполняем список\n",
    "for course in pair_counts['course1'].unique():\n",
    "    # Убеждаемся, что для каждого курса рекомендации разные\n",
    "    rec1 = get_recommendation(course, pair_counts, 1)\n",
    "    rec2 = get_recommendation(course, pair_counts, 2)\n",
    "    while rec1 == rec2:\n",
    "        rec2 = get_recommendation(course, pair_counts, 3)  # Используем следующую по популярности рекомендацию\n",
    "    recommendation_data.append({\n",
    "        'Курс': course,\n",
    "        'Рекомендация №1': rec1,\n",
    "        'Рекомендация №2': rec2\n",
    "    })\n",
    "\n",
    "# Создаем DataFrame из списка\n",
    "recommendations = pd.DataFrame(recommendation_data)\n",
    "\n",
    "recommendations.head()"
   ]
  },
  {
   "cell_type": "code",
   "execution_count": 16,
   "metadata": {},
   "outputs": [
    {
     "name": "stdout",
     "output_type": "stream",
     "text": [
      "<class 'pandas.core.frame.DataFrame'>\n",
      "RangeIndex: 117 entries, 0 to 116\n",
      "Data columns (total 3 columns):\n",
      " #   Column           Non-Null Count  Dtype\n",
      "---  ------           --------------  -----\n",
      " 0   Курс             117 non-null    int64\n",
      " 1   Рекомендация №1  117 non-null    int64\n",
      " 2   Рекомендация №2  117 non-null    int64\n",
      "dtypes: int64(3)\n",
      "memory usage: 2.9 KB\n"
     ]
    }
   ],
   "source": [
    "recommendations.info()"
   ]
  },
  {
   "cell_type": "markdown",
   "metadata": {},
   "source": [
    "Мы видим, что в нашей таблице 117 строк. Это равно количеству курсов."
   ]
  },
  {
   "cell_type": "markdown",
   "metadata": {},
   "source": [
    "Мы получили нужную нам таблицу, которая станет основой рекомендационной системы. В этой таблице собраны 117 курсов и по 2 рекомендации к каждому из них."
   ]
  },
  {
   "cell_type": "markdown",
   "metadata": {},
   "source": [
    "Теперь сохраним нашу таблицу в формате CSV для более удобного использования в дальнейшем."
   ]
  },
  {
   "cell_type": "code",
   "execution_count": 17,
   "metadata": {},
   "outputs": [],
   "source": [
    "recommendations.to_csv('recommendations.csv', index=False, encoding='utf-8')"
   ]
  }
 ],
 "metadata": {
  "kernelspec": {
   "display_name": "Python 3",
   "language": "python",
   "name": "python3"
  },
  "language_info": {
   "codemirror_mode": {
    "name": "ipython",
    "version": 3
   },
   "file_extension": ".py",
   "mimetype": "text/x-python",
   "name": "python",
   "nbconvert_exporter": "python",
   "pygments_lexer": "ipython3",
   "version": "3.12.9"
  }
 },
 "nbformat": 4,
 "nbformat_minor": 2
}
